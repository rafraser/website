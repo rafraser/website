{
 "cells": [
  {
   "cell_type": "markdown",
   "metadata": {},
   "source": [
    "The dataset can be downloaded from: https://datasets.wri.org/dataset/globalpowerplantdatabase. Copy `global_power_plant_database.csv` and sit it next to this notebook.\n",
    "\n",
    "(if I was more ambitious I'd download it in this code - but this processing is a once-off operation so it's not worth the time)\n",
    "\n",
    "Geopandas is a bit of a pain to install on Windows machines - apologies in advance. I just gave up and ran this notebook in WSL instead. Sorry."
   ]
  },
  {
   "cell_type": "code",
   "execution_count": 10,
   "metadata": {},
   "outputs": [
    {
     "name": "stderr",
     "output_type": "stream",
     "text": [
      "/home/robert/.pyenv/versions/3.9.6/lib/python3.9/site-packages/IPython/core/interactiveshell.py:3441: DtypeWarning: Columns (10) have mixed types.Specify dtype option on import or set low_memory=False.\n",
      "  exec(code_obj, self.user_global_ns, self.user_ns)\n"
     ]
    }
   ],
   "source": [
    "import pandas\n",
    "import geopandas\n",
    "\n",
    "# Load the power plant dataframe\n",
    "dataframe = pandas.read_csv(\"global_power_plant_database.csv\")\n",
    "dataframe.head()\n",
    "\n",
    "# Only keep the columns we care about\n",
    "columns_to_keep = ['country_long', 'name', 'gppd_idnr', 'capacity_mw', 'latitude', 'longitude', 'primary_fuel', 'commissioning_year', 'estimated_generation_gwh_2017']\n",
    "dataframe = dataframe[columns_to_keep]"
   ]
  },
  {
   "cell_type": "code",
   "execution_count": 11,
   "metadata": {},
   "outputs": [],
   "source": [
    "# Convert to spatial format and output\n",
    "geometry = geopandas.points_from_xy(dataframe['longitude'], dataframe['latitude'])\n",
    "geo_dataframe = geopandas.GeoDataFrame(dataframe.drop(['longitude', 'latitude'], axis='columns'), geometry=geometry)\n",
    "geo_dataframe.to_file(\"powerplants.geojson\", driver=\"GeoJSON\")"
   ]
  }
 ],
 "metadata": {
  "kernelspec": {
   "display_name": "Python 3.9.6 64-bit ('3.9.6')",
   "language": "python",
   "name": "python3"
  },
  "language_info": {
   "codemirror_mode": {
    "name": "ipython",
    "version": 3
   },
   "file_extension": ".py",
   "mimetype": "text/x-python",
   "name": "python",
   "nbconvert_exporter": "python",
   "pygments_lexer": "ipython3",
   "version": "3.9.6"
  },
  "orig_nbformat": 4,
  "vscode": {
   "interpreter": {
    "hash": "64b88ffa53decfe787d7a679f12cc09e3deed762a0b88511935843a8d5b0a736"
   }
  }
 },
 "nbformat": 4,
 "nbformat_minor": 2
}
