{
 "cells": [
  {
   "cell_type": "code",
   "execution_count": 2,
   "metadata": {},
   "outputs": [],
   "source": [
    "import csv\n",
    "import json\n",
    "\n",
    "stops = {}\n",
    "\n",
    "with open('stops.txt') as stopsfile:\n",
    "    reader = csv.DictReader(stopsfile)\n",
    "    for row in reader:\n",
    "        stops[row['stop_code']] = row['stop_name']\n",
    "\n",
    "with open('all_stops.json', 'w') as outfile:\n",
    "    json.dump(stops, outfile)\n"
   ]
  }
 ],
 "metadata": {
  "kernelspec": {
   "display_name": "Python 3",
   "language": "python",
   "name": "python3"
  },
  "language_info": {
   "codemirror_mode": {
    "name": "ipython",
    "version": 3
   },
   "file_extension": ".py",
   "mimetype": "text/x-python",
   "name": "python",
   "nbconvert_exporter": "python",
   "pygments_lexer": "ipython3",
   "version": "3.10.2"
  },
  "orig_nbformat": 4,
  "vscode": {
   "interpreter": {
    "hash": "89e67aea95c4c08eb79a7b1a69bff4b83eda487647677a46bac3c496a2f8bd08"
   }
  }
 },
 "nbformat": 4,
 "nbformat_minor": 2
}
